{
 "cells": [
  {
   "cell_type": "code",
   "execution_count": null,
   "id": "939ea35e-1d46-43d4-b271-71a9ba2318a4",
   "metadata": {},
   "outputs": [],
   "source": [
    "import customtkinter as ctk\n",
    "from .views.dashboard import DashboardView\n",
    "\n",
    "class App(ctk.CTk):\n",
    "    def __init__(self):\n",
    "        super().__init__()\n",
    "        self.title(\"Proyecto Esperanza\")\n",
    "        self.geometry(\"1200x700\")\n",
    "        \n",
    "        # Configura tema oscuro\n",
    "        ctk.set_appearance_mode(\"dark\")\n",
    "        ctk.set_default_color_theme(\"blue\")\n",
    "        \n",
    "        # Contenedor principal\n",
    "        self.main_container = ctk.CTkFrame(self)\n",
    "        self.main_container.pack(fill=\"both\", expand=True)\n",
    "        \n",
    "        # Mostrar dashboard inicial\n",
    "        self.show_dashboard()\n",
    "    \n",
    "    def show_dashboard(self):\n",
    "        DashboardView(self.main_container)"
   ]
  }
 ],
 "metadata": {
  "kernelspec": {
   "display_name": "Python 3 (ipykernel)",
   "language": "python",
   "name": "python3"
  },
  "language_info": {
   "codemirror_mode": {
    "name": "ipython",
    "version": 3
   },
   "file_extension": ".py",
   "mimetype": "text/x-python",
   "name": "python",
   "nbconvert_exporter": "python",
   "pygments_lexer": "ipython3",
   "version": "3.12.7"
  }
 },
 "nbformat": 4,
 "nbformat_minor": 5
}
