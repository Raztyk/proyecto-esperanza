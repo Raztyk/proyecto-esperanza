{
 "cells": [
  {
   "cell_type": "code",
   "execution_count": null,
   "id": "939ea35e-1d46-43d4-b271-71a9ba2318a4",
   "metadata": {},
   "outputs": [],
   "source": [
    "import customtkinter as ctk\n",
    "from .utils.theme import Theme\n",
    "from .views.dashboard import DashboardView\n",
    "from .widgets.navbar import Navbar\n",
    "\n",
    "class App(ctk.CTk):\n",
    "    def __init__(self):\n",
    "        super().__init__()\n",
    "        self.current_theme = \"pastel_light\"\n",
    "        Theme.setup_theme()\n",
    "        \n",
    "        # ... (código anterior) ...\n",
    "        \n",
    "        # Añadir selector de tema\n",
    "        self.theme_selector = ctk.CTkOptionMenu(\n",
    "            self.navbar,\n",
    "            values=[\"pastel_light\", \"pastel_dark\", \"corporate\"],\n",
    "            command=self.change_theme\n",
    "        )\n",
    "        self.theme_selector.pack(pady=10)\n",
    "    \n",
    "    def change_theme(self, theme_name):\n",
    "        self.current_theme = theme_name\n",
    "        if theme_name == \"pastel_dark\":\n",
    "            ctk.set_appearance_mode(\"dark\")\n",
    "        else:\n",
    "            ctk.set_appearance_mode(\"light\")\n",
    "        # Puedes añadir más configuraciones específicas por tema\n",
    "        from .widgets.notifications import NotificationManager\n",
    "\n",
    "class App(ctk.CTk):\n",
    "    def __init__(self):\n",
    "        # ... (código existente) ...\n",
    "        self.notifier = NotificationManager(self)\n",
    "        \n",
    "        # Ejemplo de notificación\n",
    "        self.after(1000, lambda: self.notifier.show_notification(\n",
    "            \"¡Bienvenido al Sistema de Ventas!\", \"success\"))"
   ]
  }
 ],
 "metadata": {
  "kernelspec": {
   "display_name": "Python 3 (ipykernel)",
   "language": "python",
   "name": "python3"
  },
  "language_info": {
   "codemirror_mode": {
    "name": "ipython",
    "version": 3
   },
   "file_extension": ".py",
   "mimetype": "text/x-python",
   "name": "python",
   "nbconvert_exporter": "python",
   "pygments_lexer": "ipython3",
   "version": "3.12.7"
  }
 },
 "nbformat": 4,
 "nbformat_minor": 5
}
