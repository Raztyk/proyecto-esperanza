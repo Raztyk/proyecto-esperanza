{
 "cells": [
  {
   "cell_type": "code",
   "execution_count": null,
   "id": "1bbb45af-c162-47cd-af69-b87db59e46ff",
   "metadata": {},
   "outputs": [],
   "source": [
    "import pandas as pd\n",
    "\n",
    "class SalesData:\n",
    "    @staticmethod\n",
    "    def get_monthly_sales():\n",
    "        return {\n",
    "            'meses': ['Ene', 'Feb', 'Mar', 'Abr', 'May', 'Jun', 'Jul', 'Ago', 'Sep', 'Oct', 'Nov', 'Dic'],\n",
    "            'ventas': [1200, 1500, 1800, 2100, 5200, 3400, 3800, 4200, 2900, 5100, 4800, 6200]\n",
    "        }\n",
    "    \n",
    "    @staticmethod\n",
    "    def get_yearly_summary():\n",
    "        return {\n",
    "            'total': 46200,\n",
    "            'mejor_mes': 'Dic',\n",
    "            'peor_mes': 'Sep',\n",
    "            'tendencia': '↑ 18%'\n",
    "        }"
   ]
  }
 ],
 "metadata": {
  "kernelspec": {
   "display_name": "Python 3 (ipykernel)",
   "language": "python",
   "name": "python3"
  },
  "language_info": {
   "codemirror_mode": {
    "name": "ipython",
    "version": 3
   },
   "file_extension": ".py",
   "mimetype": "text/x-python",
   "name": "python",
   "nbconvert_exporter": "python",
   "pygments_lexer": "ipython3",
   "version": "3.12.7"
  }
 },
 "nbformat": 4,
 "nbformat_minor": 5
}
