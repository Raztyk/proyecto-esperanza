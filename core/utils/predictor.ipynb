{
 "cells": [
  {
   "cell_type": "code",
   "execution_count": null,
   "id": "a5d6ec1f-6bf1-4313-bb75-1fc3c32f85b3",
   "metadata": {},
   "outputs": [],
   "source": [
    "import numpy as np\n",
    "from sklearn.linear_model import LinearRegression\n",
    "from sklearn.preprocessing import PolynomialFeatures\n",
    "import pandas as pd\n",
    "from ..utils.theme import Theme\n",
    "\n",
    "class SalesPredictor:\n",
    "    def __init__(self, data):\n",
    "        self.data = data\n",
    "        self.model = LinearRegression()\n",
    "        self.poly = PolynomialFeatures(degree=2)\n",
    "    \n",
    "    def predict_year(self):\n",
    "        X = np.array(range(len(self.data['ventas']))).reshape(-1, 1)\n",
    "        y = np.array(self.data['ventas'])\n",
    "        \n",
    "        # Entrenar modelo\n",
    "        X_poly = self.poly.fit_transform(X)\n",
    "        self.model.fit(X_poly, y)\n",
    "        \n",
    "        # Predecir próximo año\n",
    "        future = np.array(range(len(self.data['ventas']), len(self.data['ventas']) + 12)).reshape(-1, 1)\n",
    "        future_poly = self.poly.transform(future)\n",
    "        predictions = self.model.predict(future_poly)\n",
    "        \n",
    "        return predictions\n",
    "    \n",
    "    def seasonal_analysis(self):\n",
    "        df = pd.DataFrame(self.data)\n",
    "        df['month'] = pd.to_datetime(df['meses'], format='%b').dt.month\n",
    "        seasonal = df.groupby('month')['ventas'].mean()\n",
    "        return seasonal\n",
    "    \n",
    "    def detect_outliers(self):\n",
    "        q1 = np.percentile(self.data['ventas'], 25)\n",
    "        q3 = np.percentile(self.data['ventas'], 75)\n",
    "        iqr = q3 - q1\n",
    "        lower_bound = q1 - (1.5 * iqr)\n",
    "        upper_bound = q3 + (1.5 * iqr)\n",
    "        \n",
    "        outliers = [\n",
    "            (mes, venta) for mes, venta in zip(self.data['meses'], self.data['ventas'])\n",
    "            if venta < lower_bound or venta > upper_bound\n",
    "        ]\n",
    "        \n",
    "        return outliers"
   ]
  }
 ],
 "metadata": {
  "kernelspec": {
   "display_name": "Python 3 (ipykernel)",
   "language": "python",
   "name": "python3"
  },
  "language_info": {
   "codemirror_mode": {
    "name": "ipython",
    "version": 3
   },
   "file_extension": ".py",
   "mimetype": "text/x-python",
   "name": "python",
   "nbconvert_exporter": "python",
   "pygments_lexer": "ipython3",
   "version": "3.12.7"
  }
 },
 "nbformat": 4,
 "nbformat_minor": 5
}
