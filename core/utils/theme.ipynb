{
 "cells": [
  {
   "cell_type": "code",
   "execution_count": null,
   "id": "9b2e7735-e7e0-48ba-bb61-e69adc143433",
   "metadata": {},
   "outputs": [],
   "source": [
    "import customtkinter as ctk\n",
    "import matplotlib.pyplot as plt\n",
    "\n",
    "class Theme:\n",
    "    COLORS = {\n",
    "        \"primary\": \"#A8D8EA\",  # Azul pastel\n",
    "        \"secondary\": \"#AA96DA\",  # Lila pastel\n",
    "        \"accent\": \"#FCBAD3\",  # Rosa pastel\n",
    "        \"background\": \"#FFFFD2\",  # Amarillo muy claro\n",
    "        \"surface\": \"#E8F9FD\",  # Blanco azulado\n",
    "        \"text\": \"#393E46\",  # Gris oscuro para contraste\n",
    "        \"success\": \"#A6E3A1\",  # Verde pastel\n",
    "        \"warning\": \"#FFD3B4\"  # Naranja pastel\n",
    "    }\n",
    "\n",
    "    @classmethod\n",
    "    def setup_theme(cls):\n",
    "        ctk.set_appearance_mode(\"light\")\n",
    "        ctk.set_default_color_theme(cls.get_ctk_theme())\n",
    "        cls.setup_matplotlib_theme()\n",
    "\n",
    "    @classmethod\n",
    "    def get_ctk_theme(cls):\n",
    "        return {\n",
    "            \"fg_color\": cls.COLORS[\"background\"],\n",
    "            \"button_color\": cls.COLORS[\"primary\"],\n",
    "            \"button_hover_color\": cls.COLORS[\"secondary\"],\n",
    "            \"text_color\": cls.COLORS[\"text\"],\n",
    "            \"entry_fg_color\": cls.COLORS[\"surface\"]\n",
    "        }\n",
    "\n",
    "    @classmethod\n",
    "    def setup_matplotlib_theme(cls):\n",
    "        plt.style.use('ggplot')\n",
    "        plt.rcParams['axes.facecolor'] = cls.COLORS[\"surface\"]\n",
    "        plt.rcParams['figure.facecolor'] = cls.COLORS[\"background\"]\n",
    "        plt.rcParams['axes.prop_cycle'] = plt.cycler(color=[\n",
    "            cls.COLORS[\"primary\"], \n",
    "            cls.COLORS[\"secondary\"], \n",
    "            cls.COLORS[\"accent\"],\n",
    "            cls.COLORS[\"success\"]\n",
    "        ])"
   ]
  }
 ],
 "metadata": {
  "kernelspec": {
   "display_name": "Python 3 (ipykernel)",
   "language": "python",
   "name": "python3"
  },
  "language_info": {
   "codemirror_mode": {
    "name": "ipython",
    "version": 3
   },
   "file_extension": ".py",
   "mimetype": "text/x-python",
   "name": "python",
   "nbconvert_exporter": "python",
   "pygments_lexer": "ipython3",
   "version": "3.12.7"
  }
 },
 "nbformat": 4,
 "nbformat_minor": 5
}
