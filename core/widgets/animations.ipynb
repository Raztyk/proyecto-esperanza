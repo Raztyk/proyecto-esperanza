{
 "cells": [
  {
   "cell_type": "code",
   "execution_count": null,
   "id": "586a8956-970c-4cf5-b704-b5b2dcdef493",
   "metadata": {},
   "outputs": [],
   "source": [
    "import time\n",
    "import customtkinter as ctk\n",
    "from typing import Callable\n",
    "\n",
    "class Animator:\n",
    "    @staticmethod\n",
    "    def fade_in(widget: ctk.CTkBaseClass, duration=0.5):\n",
    "        widget.configure(state=\"disabled\")\n",
    "        for i in range(0, 101, 5):\n",
    "            alpha = i/100\n",
    "            widget.attributes('-alpha', alpha)\n",
    "            widget.update()\n",
    "            time.sleep(duration/20)\n",
    "        widget.configure(state=\"normal\")\n",
    "\n",
    "    @staticmethod\n",
    "    def slide_in(widget: ctk.CTkBaseClass, direction=\"left\", duration=0.3):\n",
    "        original_pos = widget.winfo_x()\n",
    "        if direction == \"left\":\n",
    "            widget.place(x=-widget.winfo_width(), y=widget.winfo_y())\n",
    "        elif direction == \"top\":\n",
    "            widget.place(y=-widget.winfo_height(), x=widget.winfo_x())\n",
    "        \n",
    "        steps = 20\n",
    "        for i in range(steps + 1):\n",
    "            if direction == \"left\":\n",
    "                new_x = original_pos - (original_pos + widget.winfo_width()) * (1 - i/steps)\n",
    "                widget.place(x=new_x)\n",
    "            elif direction == \"top\":\n",
    "                new_y = widget.winfo_y() - widget.winfo_height() * (1 - i/steps)\n",
    "                widget.place(y=new_y)\n",
    "            widget.update()\n",
    "            time.sleep(duration/steps)"
   ]
  }
 ],
 "metadata": {
  "kernelspec": {
   "display_name": "Python 3 (ipykernel)",
   "language": "python",
   "name": "python3"
  },
  "language_info": {
   "codemirror_mode": {
    "name": "ipython",
    "version": 3
   },
   "file_extension": ".py",
   "mimetype": "text/x-python",
   "name": "python",
   "nbconvert_exporter": "python",
   "pygments_lexer": "ipython3",
   "version": "3.12.7"
  }
 },
 "nbformat": 4,
 "nbformat_minor": 5
}
