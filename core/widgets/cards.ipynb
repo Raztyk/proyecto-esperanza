{
 "cells": [
  {
   "cell_type": "code",
   "execution_count": null,
   "id": "c3a65f05-dc3a-41e3-9e20-3218b86fd0df",
   "metadata": {},
   "outputs": [],
   "source": [
    "import customtkinter as ctk\n",
    "\n",
    "class InfoCard(ctk.CTkFrame):\n",
    "    def __init__(self, parent, title, value, trend):\n",
    "        super().__init__(parent, corner_radius=10)\n",
    "        \n",
    "        self.title_label = ctk.CTkLabel(\n",
    "            self, \n",
    "            text=title,\n",
    "            font=(\"Arial\", 12),\n",
    "            text_color=\"#aaaaaa\"\n",
    "        )\n",
    "        self.title_label.pack(pady=(10, 0))\n",
    "        \n",
    "        self.value_label = ctk.CTkLabel(\n",
    "            self,\n",
    "            text=value,\n",
    "            font=(\"Arial\", 24, \"bold\")\n",
    "        )\n",
    "        self.value_label.pack(pady=5)\n",
    "        \n",
    "        self.trend_label = ctk.CTkLabel(\n",
    "            self,\n",
    "            text=trend,\n",
    "            font=(\"Arial\", 12),\n",
    "            text_color=\"#59a14f\" if \"↑\" in trend else \"#e15759\"\n",
    "        )\n",
    "        self.trend_label.pack(pady=(0, 10))\n",
    "        \n",
    "        self.configure(\n",
    "            fg_color=\"#3e3e3e\",\n",
    "            border_width=1,\n",
    "            border_color=\"#4e4e4e\"\n",
    "        )"
   ]
  }
 ],
 "metadata": {
  "kernelspec": {
   "display_name": "Python 3 (ipykernel)",
   "language": "python",
   "name": "python3"
  },
  "language_info": {
   "codemirror_mode": {
    "name": "ipython",
    "version": 3
   },
   "file_extension": ".py",
   "mimetype": "text/x-python",
   "name": "python",
   "nbconvert_exporter": "python",
   "pygments_lexer": "ipython3",
   "version": "3.12.7"
  }
 },
 "nbformat": 4,
 "nbformat_minor": 5
}
