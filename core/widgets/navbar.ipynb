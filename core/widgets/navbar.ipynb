{
 "cells": [
  {
   "cell_type": "code",
   "execution_count": null,
   "id": "c6574e14-ae28-4437-972d-72f273b4339b",
   "metadata": {},
   "outputs": [],
   "source": [
    "import customtkinter as ctk\n",
    "\n",
    "class Navbar(ctk.CTkFrame):\n",
    "    def __init__(self, parent):\n",
    "        super().__init__(parent, corner_radius=10)\n",
    "        self.parent = parent\n",
    "        \n",
    "        self.configure(fg_color=\"#2e2e2e\")\n",
    "        self.setup_ui()\n",
    "    \n",
    "    def setup_ui(self):\n",
    "        # Logo\n",
    "        logo = ctk.CTkLabel(\n",
    "            self,\n",
    "            text=\"Proyecto Esperanza\",\n",
    "            font=(\"Arial\", 18, \"bold\"),\n",
    "            text_color=\"#4e79a7\"\n",
    "        )\n",
    "        logo.pack(pady=20)\n",
    "        \n",
    "        # Botones de navegación\n",
    "        buttons = [\n",
    "            (\"🏠 Dashboard\", \"show_dashboard\"),\n",
    "            (\"📈 Ventas\", \"show_ventas\"),\n",
    "            (\"📊 Gráficos\", \"show_graficos\"),\n",
    "            (\"💡 Consejos\", \"show_consejos\"),\n",
    "            (\"❓ Ayuda\", \"show_ayuda\")\n",
    "        ]\n",
    "        \n",
    "        for text, command in buttons:\n",
    "            btn = ctk.CTkButton(\n",
    "                self,\n",
    "                text=text,\n",
    "                command=lambda cmd=command: getattr(self.parent, cmd)(),\n",
    "                corner_radius=8,\n",
    "                height=40,\n",
    "                anchor=\"w\",\n",
    "                fg_color=\"transparent\",\n",
    "                hover_color=\"#3e3e3e\"\n",
    "            )\n",
    "            btn.pack(fill=\"x\", padx=5, pady=2)\n",
    "        \n",
    "        # Botón de salir\n",
    "        exit_btn = ctk.CTkButton(\n",
    "            self,\n",
    "            text=\"🚪 Salir\",\n",
    "            command=self.parent.quit,\n",
    "            corner_radius=8,\n",
    "            height=40,\n",
    "            fg_color=\"#e15759\",\n",
    "            hover_color=\"#c04648\"\n",
    "        )\n",
    "        exit_btn.pack(side=\"bottom\", fill=\"x\", padx=5, pady=20)"
   ]
  }
 ],
 "metadata": {
  "kernelspec": {
   "display_name": "Python 3 (ipykernel)",
   "language": "python",
   "name": "python3"
  },
  "language_info": {
   "codemirror_mode": {
    "name": "ipython",
    "version": 3
   },
   "file_extension": ".py",
   "mimetype": "text/x-python",
   "name": "python",
   "nbconvert_exporter": "python",
   "pygments_lexer": "ipython3",
   "version": "3.12.7"
  }
 },
 "nbformat": 4,
 "nbformat_minor": 5
}
