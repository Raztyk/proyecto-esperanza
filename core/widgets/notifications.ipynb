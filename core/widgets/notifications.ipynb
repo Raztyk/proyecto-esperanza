{
 "cells": [
  {
   "cell_type": "code",
   "execution_count": null,
   "id": "114eac8f-5a01-4541-b0d6-fa95e19db41b",
   "metadata": {},
   "outputs": [],
   "source": [
    "import customtkinter as ctk\n",
    "from ..utils.theme import Theme\n",
    "from ..utils.animations import Animator\n",
    "\n",
    "class NotificationManager:\n",
    "    def __init__(self, root):\n",
    "        self.root = root\n",
    "        self.notification_frame = None\n",
    "    \n",
    "    def show_notification(self, message, notification_type=\"info\"):\n",
    "        if self.notification_frame:\n",
    "            self.notification_frame.destroy()\n",
    "        \n",
    "        color_map = {\n",
    "            \"info\": Theme.COLORS[\"primary\"],\n",
    "            \"success\": Theme.COLORS[\"success\"],\n",
    "            \"warning\": Theme.COLORS[\"warning\"],\n",
    "            \"error\": \"#FF9AA2\"  # Rojo pastel\n",
    "        }\n",
    "        \n",
    "        self.notification_frame = ctk.CTkFrame(\n",
    "            self.root,\n",
    "            corner_radius=10,\n",
    "            border_width=2,\n",
    "            fg_color=color_map[notification_type],\n",
    "            border_color=Theme.COLORS[\"text\"]\n",
    "        )\n",
    "        \n",
    "        # Posición inicial (fuera de pantalla)\n",
    "        self.notification_frame.place(\n",
    "            relx=0.98, rely=0.02,\n",
    "            anchor=\"ne\", x=200\n",
    "        )\n",
    "        \n",
    "        ctk.CTkLabel(\n",
    "            self.notification_frame,\n",
    "            text=message,\n",
    "            text_color=Theme.COLORS[\"text\"],\n",
    "            font=(\"Arial\", 12)\n",
    "        ).pack(padx=20, pady=10)\n",
    "        \n",
    "        # Animación de entrada\n",
    "        Animator.slide_in(self.notification_frame, direction=\"left\")\n",
    "        \n",
    "        # Auto-ocultar después de 5 segundos\n",
    "        self.root.after(5000, self.hide_notification)\n",
    "    \n",
    "    def hide_notification(self):\n",
    "        if self.notification_frame:\n",
    "            self.notification_frame.destroy()\n",
    "            self.notification_frame = None"
   ]
  }
 ],
 "metadata": {
  "kernelspec": {
   "display_name": "Python 3 (ipykernel)",
   "language": "python",
   "name": "python3"
  },
  "language_info": {
   "codemirror_mode": {
    "name": "ipython",
    "version": 3
   },
   "file_extension": ".py",
   "mimetype": "text/x-python",
   "name": "python",
   "nbconvert_exporter": "python",
   "pygments_lexer": "ipython3",
   "version": "3.12.7"
  }
 },
 "nbformat": 4,
 "nbformat_minor": 5
}
